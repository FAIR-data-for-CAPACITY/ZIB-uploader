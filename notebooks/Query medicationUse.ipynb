{
 "cells": [
  {
   "cell_type": "code",
   "execution_count": 2,
   "metadata": {},
   "outputs": [],
   "source": [
    "import rdflib\n",
    "from pathlib import Path"
   ]
  },
  {
   "cell_type": "code",
   "execution_count": 19,
   "metadata": {},
   "outputs": [],
   "source": [
    "medication_use_instance = './rdf/medicationUseExample.ttl'"
   ]
  },
  {
   "cell_type": "code",
   "execution_count": 20,
   "metadata": {},
   "outputs": [
    {
     "data": {
      "text/plain": [
       "<Graph identifier=Nf413f8fcfb6847058bc19556ae7fae59 (<class 'rdflib.graph.Graph'>)>"
      ]
     },
     "execution_count": 20,
     "metadata": {},
     "output_type": "execute_result"
    }
   ],
   "source": [
    "graph = rdflib.Graph()\n",
    "graph.parse(medication_use_instance, format='turtle')"
   ]
  },
  {
   "cell_type": "code",
   "execution_count": 23,
   "metadata": {},
   "outputs": [
    {
     "data": {
      "text/plain": [
       "<rdflib.plugins.sparql.processor.SPARQLResult at 0x7ff74355cac0>"
      ]
     },
     "metadata": {},
     "output_type": "display_data"
    }
   ],
   "source": [
    "query_result = graph.query(\n",
    "    '''\n",
    "    PREFIX fhir: <http://hl7.org/fhir/>\n",
    "select ?s ?medicationValue where {\n",
    "    ?s a fhir:MedicationStatement .\n",
    "    ?s fhir:MedicationStatement.medicationReference ?bnode .\n",
    "    ?bnode fhir:Reference.reference ?valueBnode .\n",
    "    ?valueBnode fhir:value ?medicationValue .\n",
    "} limit 100 \n",
    "    ''')\n"
   ]
  },
  {
   "cell_type": "code",
   "execution_count": 27,
   "metadata": {},
   "outputs": [
    {
     "name": "stdout",
     "output_type": "stream",
     "text": [
      "(rdflib.term.URIRef('http://hl7.org/fhir/MedicationStatement/100'), rdflib.term.Literal('prednisone'))\n"
     ]
    }
   ],
   "source": [
    "for r in query_result:\n",
    "    print(r)"
   ]
  },
  {
   "cell_type": "code",
   "execution_count": null,
   "metadata": {},
   "outputs": [],
   "source": []
  }
 ],
 "metadata": {
  "kernelspec": {
   "display_name": "Python 3",
   "language": "python",
   "name": "python3"
  },
  "language_info": {
   "codemirror_mode": {
    "name": "ipython",
    "version": 3
   },
   "file_extension": ".py",
   "mimetype": "text/x-python",
   "name": "python",
   "nbconvert_exporter": "python",
   "pygments_lexer": "ipython3",
   "version": "3.8.4"
  }
 },
 "nbformat": 4,
 "nbformat_minor": 4
}
