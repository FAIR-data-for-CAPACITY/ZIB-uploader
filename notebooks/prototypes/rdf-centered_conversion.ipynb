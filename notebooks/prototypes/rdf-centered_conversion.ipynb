{
 "cells": [
  {
   "cell_type": "markdown",
   "metadata": {},
   "source": [
    "# RDF-centered conversion\n",
    "This notebook will convert ZIB triples to capacity fields."
   ]
  },
  {
   "cell_type": "code",
   "execution_count": 1,
   "metadata": {},
   "outputs": [],
   "source": [
    "from rdflib import Graph, URIRef, Namespace, Literal\n",
    "from rdflib.namespace import RDFS,SKOS, RDF, OWL\n",
    "from pathlib import Path"
   ]
  },
  {
   "cell_type": "markdown",
   "metadata": {},
   "source": [
    "## ZIB ontology\n",
    "A small sample ontology to be able to describe ZIB concepts.\n",
    "\n",
    "This ontology contains the following ZIB classes.\n",
    "\n",
    "| Name          | Description  |\n",
    "|---------------|--------------|\n",
    "| [MedicationUse](https://zibs.nl/wiki/MedicationUse2-v1.1.1(2020EN)) |    |\n",
    "| [PharmaceuticalProduct](https://zibs.nl/wiki/PharmaceuticalProduct-v2.1.2(2020EN)) | Partial information model used in MedicationUse |\n",
    "\n"
   ]
  },
  {
   "cell_type": "code",
   "execution_count": 2,
   "metadata": {},
   "outputs": [
    {
     "name": "stdout",
     "output_type": "stream",
     "text": [
      "@prefix : <http://example.org/ZIB#> .\n",
      "@prefix owl: <http://www.w3.org/2002/07/owl#> .\n",
      "@prefix rdfs: <http://www.w3.org/2000/01/rdf-schema#> .\n",
      "\n",
      "<http://example.org/ZIB> a owl:Ontology .\n",
      "\n",
      ":MedicationUse a owl:Class ;\n",
      "    rdfs:subClassOf :ZibConcept ;\n",
      "    owl:disjointWith :PharmaceuticalProduct .\n",
      "\n",
      ":hasZibRecord a owl:FunctionalProperty,\n",
      "        owl:InverseFunctionalProperty,\n",
      "        owl:ObjectProperty ;\n",
      "    rdfs:subPropertyOf :zibProperty .\n",
      "\n",
      ":medicationCode a owl:FunctionalProperty,\n",
      "        owl:InverseFunctionalProperty,\n",
      "        owl:ObjectProperty ;\n",
      "    rdfs:subPropertyOf :zibProperty .\n",
      "\n",
      ":PharmaceuticalProduct a owl:Class ;\n",
      "    rdfs:subClassOf :ZibConcept .\n",
      "\n",
      ":ZibConcept a owl:Class .\n",
      "\n",
      ":zibProperty a owl:ObjectProperty ;\n",
      "    rdfs:subPropertyOf owl:topObjectProperty .\n",
      "\n",
      "\n"
     ]
    }
   ],
   "source": [
    "ZIB = Namespace('http://example.org/ZIB/')\n",
    "zib_ontology = '../../ZIB/zib.owl'\n",
    "zib_ontology = Graph(identifier=ZIB).parse(zib_ontology)\n",
    "\n",
    "print(zib_ontology.serialize(format='turtle').decode())"
   ]
  },
  {
   "cell_type": "markdown",
   "metadata": {},
   "source": [
    "# Sample records\n",
    "Using the ZIB ontology some sample records are created for patient Bob which uses a medication called *quinidine* which has *C01BA01* within the ATC codesystem, and *atenolol* with code *C07AB03*.\n",
    "We need to create two *MedicationUse* records."
   ]
  },
  {
   "cell_type": "code",
   "execution_count": 3,
   "metadata": {},
   "outputs": [
    {
     "name": "stdout",
     "output_type": "stream",
     "text": [
      "@prefix UATC: <http://purl.bioontology.org/ontology/UATC/> .\n",
      "@prefix ZIB: <http://example.org/ZIB/> .\n",
      "\n",
      "<http://example.org/patient/bob> ZIB:hasZibRecord <http://example.org/zib_record/bobsOtherMedication>,\n",
      "        <http://example.org/zib_record/bobsmedication> .\n",
      "\n",
      "<http://example.org/zib_record/bobsOtherMedication> a ZIB:MedicationUse ;\n",
      "    ZIB:medicationCode UATC:C07AB03 .\n",
      "\n",
      "<http://example.org/zib_record/bobsmedication> a ZIB:MedicationUse ;\n",
      "    ZIB:medicationCode UATC:C01BA01 .\n",
      "\n",
      "\n"
     ]
    }
   ],
   "source": [
    "# Namespaces\n",
    "ZIB = Namespace('http://example.org/ZIB/')\n",
    "ATC = Namespace('http://purl.bioontology.org/ontology/ATC/')\n",
    "UATC = Namespace('http://purl.bioontology.org/ontology/UATC/')\n",
    "\n",
    "\n",
    "patient = Namespace('http://example.org/patient/')\n",
    "zib_record = Namespace('http://example.org/zib_record/')\n",
    "\n",
    "# Sample medicationUse zib\n",
    "patient_graph = Graph()\n",
    "patient_graph.bind('ZIB', ZIB)\n",
    "patient_graph.bind('ATC', ATC)\n",
    "patient_graph.bind('UATC', UATC)\n",
    "patient_graph.bind('RDFS', RDFS)\n",
    "patient_graph.bind('SKOS', SKOS)\n",
    "patient_graph.bind('OWL', OWL)\n",
    "\n",
    "# Quinidine record\n",
    "record_ref = zib_record.bobsmedication\n",
    "patient_graph.add((patient.bob, ZIB.hasZibRecord, record_ref))\n",
    "patient_graph.add((record_ref, RDF.type, ZIB.MedicationUse))\n",
    "patient_graph.add((record_ref, ZIB.medicationCode, UATC.C01BA01))\n",
    "\n",
    "# Atenolol record\n",
    "record_ref = zib_record.bobsOtherMedication\n",
    "patient_graph.add((patient.bob, ZIB.hasZibRecord, record_ref))\n",
    "patient_graph.add((record_ref, RDF.type, ZIB.MedicationUse))\n",
    "patient_graph.add((record_ref, ZIB.medicationCode, UATC.C07AB03))\n",
    "\n",
    "\n",
    "print(patient_graph.serialize(format='turtle').decode())"
   ]
  },
  {
   "cell_type": "markdown",
   "metadata": {},
   "source": [
    "# Adding ATC ontology\n"
   ]
  },
  {
   "cell_type": "code",
   "execution_count": 4,
   "metadata": {},
   "outputs": [
    {
     "data": {
      "text/plain": [
       "<Graph identifier=N7f023c2fd190448a8ef9bc6664851601 (<class 'rdflib.graph.Graph'>)>"
      ]
     },
     "execution_count": 4,
     "metadata": {},
     "output_type": "execute_result"
    }
   ],
   "source": [
    "from zib_uploader.tools import get\n",
    "\n",
    "atc_path = 'atc.ttl'\n",
    "atc_url = 'http://data.bioontology.org/ontologies/ATC/submissions/12/download?apikey=8b5b7825-538d-40e0-9e9e-5ab9274a9aeb'\n",
    "\n",
    "atc_file = get(atc_url)\n",
    "\n",
    "patient_graph.parse(str(atc_file), format='turtle')"
   ]
  },
  {
   "cell_type": "markdown",
   "metadata": {},
   "source": [
    "Now we need to check whether we can use the ATC ontology to infer additional information about Mr. Bobs medication use.\n",
    "\n",
    "A *DeductiveClosure* is an expansion of the knowledge base with all knowledge that can logically be derived from the original knowledge."
   ]
  },
  {
   "cell_type": "code",
   "execution_count": 5,
   "metadata": {},
   "outputs": [],
   "source": [
    "# import owlrl\n",
    "\n",
    "# owlrl.DeductiveClosure(owlrl.CombinedClosure.RDFS_OWLRL_Semantics).expand(patient_graph)\n",
    "\n",
    "# query = \\\n",
    "# '''\n",
    "# select ?medication ?superclass\n",
    "# where {    \n",
    "#    <http://example.org/patient/bob> ZIB:hasZibRecord ?zibRecord .\n",
    "#     ?zibRecord ZIB:medicationCode ?medication .\n",
    "#     ?medication RDFS:subClassOf ?superclass\n",
    "# }\n",
    "# '''\n",
    "\n",
    "# result = patient_graph.query(query)\n",
    "\n",
    "# for r in result:\n",
    "#     print(f'Medication {r[0]} is subclass of {r[1]}')"
   ]
  },
  {
   "cell_type": "markdown",
   "metadata": {},
   "source": [
    "It actually turns out that transitive relations can also be deduced without a reasoning engine by adding a '\\*' to the transitive property.\n",
    "\n",
    "If this is the most complicated reasoning we need we do not need a reasoning engine."
   ]
  },
  {
   "cell_type": "code",
   "execution_count": 6,
   "metadata": {},
   "outputs": [
    {
     "name": "stdout",
     "output_type": "stream",
     "text": [
      "Medication http://purl.bioontology.org/ontology/UATC/C01BA01 is subclass of http://purl.bioontology.org/ontology/UATC/C01BA01\n",
      "Medication http://purl.bioontology.org/ontology/UATC/C01BA01 is subclass of http://purl.bioontology.org/ontology/UATC/C01BA\n",
      "Medication http://purl.bioontology.org/ontology/UATC/C01BA01 is subclass of http://purl.bioontology.org/ontology/UATC/C01B\n",
      "Medication http://purl.bioontology.org/ontology/UATC/C01BA01 is subclass of http://purl.bioontology.org/ontology/UATC/C01\n",
      "Medication http://purl.bioontology.org/ontology/UATC/C01BA01 is subclass of http://purl.bioontology.org/ontology/UATC/C\n",
      "Medication http://purl.bioontology.org/ontology/UATC/C01BA01 is subclass of http://www.w3.org/2002/07/owl#Thing\n",
      "Medication http://purl.bioontology.org/ontology/UATC/C07AB03 is subclass of http://purl.bioontology.org/ontology/UATC/C07AB03\n",
      "Medication http://purl.bioontology.org/ontology/UATC/C07AB03 is subclass of http://purl.bioontology.org/ontology/UATC/C07AB\n",
      "Medication http://purl.bioontology.org/ontology/UATC/C07AB03 is subclass of http://purl.bioontology.org/ontology/UATC/C07A\n",
      "Medication http://purl.bioontology.org/ontology/UATC/C07AB03 is subclass of http://purl.bioontology.org/ontology/UATC/C07\n",
      "Medication http://purl.bioontology.org/ontology/UATC/C07AB03 is subclass of http://purl.bioontology.org/ontology/UATC/C\n",
      "Medication http://purl.bioontology.org/ontology/UATC/C07AB03 is subclass of http://www.w3.org/2002/07/owl#Thing\n"
     ]
    }
   ],
   "source": [
    "query = \\\n",
    "'''\n",
    "select ?medication ?superclass\n",
    "where {    \n",
    "   <http://example.org/patient/bob> ZIB:hasZibRecord ?zibRecord .\n",
    "    ?zibRecord ZIB:medicationCode ?medication .\n",
    "    ?medication RDFS:subClassOf* ?superclass\n",
    "}\n",
    "'''\n",
    "\n",
    "result = patient_graph.query(query)\n",
    "\n",
    "for r in result:\n",
    "    print(f'Medication {r[0]} is subclass of {r[1]}')"
   ]
  },
  {
   "cell_type": "markdown",
   "metadata": {},
   "source": [
    "This information can be used to derive the values of a couple of *carmed* fields in the CAPACITY codebook.\n",
    "The mapping excel sheet specifies how the multiple choice values map to ATC codes."
   ]
  },
  {
   "cell_type": "code",
   "execution_count": 7,
   "metadata": {},
   "outputs": [
    {
     "data": {
      "text/plain": [
       "'carmed_field_index length: 18  carmed_to_atc: 16'"
      ]
     },
     "metadata": {},
     "output_type": "display_data"
    },
    {
     "data": {
      "text/plain": [
       "['',\n",
       " 'C07A',\n",
       " 'C01B',\n",
       " 'C01AA05',\n",
       " 'C03',\n",
       " 'C08',\n",
       " 'C09A ',\n",
       " 'C09C',\n",
       " 'C03DA',\n",
       " 'C09CA03',\n",
       " 'C02KX',\n",
       " 'B01AC',\n",
       " 'B01AA',\n",
       " 'B01AE',\n",
       " 'C10',\n",
       " 'A10A',\n",
       " 'A10B']"
      ]
     },
     "metadata": {},
     "output_type": "display_data"
    },
    {
     "data": {
      "text/plain": [
       "[('0', 'None'),\n",
       " (' 1', 'Betablocker'),\n",
       " (' 3', 'Antiarrhytmic drugs'),\n",
       " (' 4', 'Digoxine'),\n",
       " (' 5', ' Diuretics'),\n",
       " (' 6', ' Calcium channel blocker'),\n",
       " (' 7', ' ACE inhibitor'),\n",
       " (' 8', ' Angiotensin II receptor blocker'),\n",
       " (' 15', ' Aldosterone antagonist'),\n",
       " (' 16 ', 'Sacubitrivil/valsartan(Entresto)'),\n",
       " ('17', 'Phospodiesterase inhibitors'),\n",
       " ('9 ', 'antiplatelet agents'),\n",
       " (' 10', ' coumarin'),\n",
       " (' 11', ' direct oral anticoagulants(DOAC)'),\n",
       " (' 12', 'Lipid lowering agents'),\n",
       " (' 13', 'Insulin'),\n",
       " (' 14', ' Oral antidiabetic agents'),\n",
       " (' 99', 'other cardiovascular medication')]"
      ]
     },
     "metadata": {},
     "output_type": "display_data"
    },
    {
     "data": {
      "text/html": [
       "<div>\n",
       "<style scoped>\n",
       "    .dataframe tbody tr th:only-of-type {\n",
       "        vertical-align: middle;\n",
       "    }\n",
       "\n",
       "    .dataframe tbody tr th {\n",
       "        vertical-align: top;\n",
       "    }\n",
       "\n",
       "    .dataframe thead th {\n",
       "        text-align: right;\n",
       "    }\n",
       "</style>\n",
       "<table border=\"1\" class=\"dataframe\">\n",
       "  <thead>\n",
       "    <tr style=\"text-align: right;\">\n",
       "      <th></th>\n",
       "      <th>ATC</th>\n",
       "      <th>choice</th>\n",
       "      <th>number</th>\n",
       "    </tr>\n",
       "  </thead>\n",
       "  <tbody>\n",
       "    <tr>\n",
       "      <th>0</th>\n",
       "      <td></td>\n",
       "      <td>(0, None)</td>\n",
       "      <td>0</td>\n",
       "    </tr>\n",
       "    <tr>\n",
       "      <th>1</th>\n",
       "      <td>C07A</td>\n",
       "      <td>( 1, Betablocker)</td>\n",
       "      <td>1</td>\n",
       "    </tr>\n",
       "    <tr>\n",
       "      <th>2</th>\n",
       "      <td>C01B</td>\n",
       "      <td>( 3, Antiarrhytmic drugs)</td>\n",
       "      <td>3</td>\n",
       "    </tr>\n",
       "    <tr>\n",
       "      <th>3</th>\n",
       "      <td>C01AA05</td>\n",
       "      <td>( 4, Digoxine)</td>\n",
       "      <td>4</td>\n",
       "    </tr>\n",
       "    <tr>\n",
       "      <th>4</th>\n",
       "      <td>C03</td>\n",
       "      <td>( 5,  Diuretics)</td>\n",
       "      <td>5</td>\n",
       "    </tr>\n",
       "    <tr>\n",
       "      <th>5</th>\n",
       "      <td>C08</td>\n",
       "      <td>( 6,  Calcium channel blocker)</td>\n",
       "      <td>6</td>\n",
       "    </tr>\n",
       "    <tr>\n",
       "      <th>6</th>\n",
       "      <td>C09A</td>\n",
       "      <td>( 7,  ACE inhibitor)</td>\n",
       "      <td>7</td>\n",
       "    </tr>\n",
       "    <tr>\n",
       "      <th>7</th>\n",
       "      <td>C09C</td>\n",
       "      <td>( 8,  Angiotensin II receptor blocker)</td>\n",
       "      <td>8</td>\n",
       "    </tr>\n",
       "    <tr>\n",
       "      <th>8</th>\n",
       "      <td>C03DA</td>\n",
       "      <td>( 15,  Aldosterone antagonist)</td>\n",
       "      <td>15</td>\n",
       "    </tr>\n",
       "    <tr>\n",
       "      <th>9</th>\n",
       "      <td>C09CA03</td>\n",
       "      <td>( 16 , Sacubitrivil/valsartan(Entresto))</td>\n",
       "      <td>16</td>\n",
       "    </tr>\n",
       "    <tr>\n",
       "      <th>10</th>\n",
       "      <td>C02KX</td>\n",
       "      <td>(17, Phospodiesterase inhibitors)</td>\n",
       "      <td>17</td>\n",
       "    </tr>\n",
       "    <tr>\n",
       "      <th>11</th>\n",
       "      <td>B01AC</td>\n",
       "      <td>(9 , antiplatelet agents)</td>\n",
       "      <td>9</td>\n",
       "    </tr>\n",
       "    <tr>\n",
       "      <th>12</th>\n",
       "      <td>B01AA</td>\n",
       "      <td>( 10,  coumarin)</td>\n",
       "      <td>10</td>\n",
       "    </tr>\n",
       "    <tr>\n",
       "      <th>13</th>\n",
       "      <td>B01AE</td>\n",
       "      <td>( 11,  direct oral anticoagulants(DOAC))</td>\n",
       "      <td>11</td>\n",
       "    </tr>\n",
       "    <tr>\n",
       "      <th>14</th>\n",
       "      <td>C10</td>\n",
       "      <td>( 12, Lipid lowering agents)</td>\n",
       "      <td>12</td>\n",
       "    </tr>\n",
       "    <tr>\n",
       "      <th>15</th>\n",
       "      <td>A10A</td>\n",
       "      <td>( 13, Insulin)</td>\n",
       "      <td>13</td>\n",
       "    </tr>\n",
       "    <tr>\n",
       "      <th>16</th>\n",
       "      <td>A10B</td>\n",
       "      <td>( 14,  Oral antidiabetic agents)</td>\n",
       "      <td>14</td>\n",
       "    </tr>\n",
       "  </tbody>\n",
       "</table>\n",
       "</div>"
      ],
      "text/plain": [
       "        ATC                                    choice  number\n",
       "0                                           (0, None)       0\n",
       "1      C07A                         ( 1, Betablocker)       1\n",
       "2      C01B                 ( 3, Antiarrhytmic drugs)       3\n",
       "3   C01AA05                            ( 4, Digoxine)       4\n",
       "4       C03                          ( 5,  Diuretics)       5\n",
       "5       C08            ( 6,  Calcium channel blocker)       6\n",
       "6      C09A                      ( 7,  ACE inhibitor)       7\n",
       "7      C09C    ( 8,  Angiotensin II receptor blocker)       8\n",
       "8     C03DA            ( 15,  Aldosterone antagonist)      15\n",
       "9   C09CA03  ( 16 , Sacubitrivil/valsartan(Entresto))      16\n",
       "10    C02KX         (17, Phospodiesterase inhibitors)      17\n",
       "11    B01AC                 (9 , antiplatelet agents)       9\n",
       "12    B01AA                          ( 10,  coumarin)      10\n",
       "13    B01AE  ( 11,  direct oral anticoagulants(DOAC))      11\n",
       "14      C10              ( 12, Lipid lowering agents)      12\n",
       "15     A10A                            ( 13, Insulin)      13\n",
       "16     A10B          ( 14,  Oral antidiabetic agents)      14"
      ]
     },
     "metadata": {},
     "output_type": "display_data"
    },
    {
     "name": "stdout",
     "output_type": "stream",
     "text": [
      "Pandas(Index=0, ATC='', choice=('0', 'None'), number=0)\n",
      "Pandas(Index=1, ATC='C07A', choice=(' 1', 'Betablocker'), number=1)\n",
      "Pandas(Index=2, ATC='C01B', choice=(' 3', 'Antiarrhytmic drugs'), number=3)\n",
      "Pandas(Index=3, ATC='C01AA05', choice=(' 4', 'Digoxine'), number=4)\n",
      "Pandas(Index=4, ATC='C03', choice=(' 5', ' Diuretics'), number=5)\n",
      "Pandas(Index=5, ATC='C08', choice=(' 6', ' Calcium channel blocker'), number=6)\n",
      "Pandas(Index=6, ATC='C09A', choice=(' 7', ' ACE inhibitor'), number=7)\n",
      "Pandas(Index=7, ATC='C09C', choice=(' 8', ' Angiotensin II receptor blocker'), number=8)\n",
      "Pandas(Index=8, ATC='C03DA', choice=(' 15', ' Aldosterone antagonist'), number=15)\n",
      "Pandas(Index=9, ATC='C09CA03', choice=(' 16 ', 'Sacubitrivil/valsartan(Entresto)'), number=16)\n",
      "Pandas(Index=10, ATC='C02KX', choice=('17', 'Phospodiesterase inhibitors'), number=17)\n",
      "Pandas(Index=11, ATC='B01AC', choice=('9 ', 'antiplatelet agents'), number=9)\n",
      "Pandas(Index=12, ATC='B01AA', choice=(' 10', ' coumarin'), number=10)\n",
      "Pandas(Index=13, ATC='B01AE', choice=(' 11', ' direct oral anticoagulants(DOAC)'), number=11)\n",
      "Pandas(Index=14, ATC='C10', choice=(' 12', 'Lipid lowering agents'), number=12)\n",
      "Pandas(Index=15, ATC='A10A', choice=(' 13', 'Insulin'), number=13)\n",
      "Pandas(Index=16, ATC='A10B', choice=(' 14', ' Oral antidiabetic agents'), number=14)\n"
     ]
    }
   ],
   "source": [
    "import pandas as pd \n",
    "\n",
    "def str_to_tuples(s, sep):\n",
    "    l = s.split(sep)\n",
    "    l = [(l[i], l[i+1]) for i in range(0, len(l), 2)]\n",
    "    \n",
    "    return l\n",
    "    \n",
    "\n",
    "carmed_to_atc = 'C07A|Beta blocking agents|C01B|ANTIARRHYTHMICS, CLASS I AND III|C01AA05|digoxin|C03|Diuretics|C08|CALCIUM CHANNEL BLOCKERS|C09A | ACE inhibitors, plain|C09C|ANGIOTENSIN II RECEPTOR BLOCKERS (ARBs), PLAIN|C03DA|Aldosterone antagonists|C09CA03| valsartan|C02KX|Antihypertensives for pulmonary hypertension(phosphodisesterase)|B01AC|Platelet aggregation inhibitors excl.heparin|B01AA|Vitamin K antagonists(coumarin)|B01AE|direct thrombin inhibitors (DOAC)|C10|Lipid modifying agents|A10A|Insulins and analogues|A10B|bloog glucose lowering drugs, excl. insulins(Oral antidiabetic agents'\n",
    "carmed_to_atc = str_to_tuples(carmed_to_atc, '|')\n",
    "carmed_to_atc = map(lambda x: x[0], carmed_to_atc)\n",
    "carmed_to_atc = list(carmed_to_atc)\n",
    "                \n",
    "\n",
    "carmed_field_index = '0-None, 1-Betablocker, 3-Antiarrhytmic drugs, 4-Digoxine, 5- Diuretics, 6- Calcium channel blocker, 7- ACE inhibitor, 8- Angiotensin II receptor blocker, 15- Aldosterone antagonist, 16 -Sacubitrivil/valsartan(Entresto),17-Phospodiesterase inhibitors,9 -antiplatelet agents, 10- coumarin, 11- direct oral anticoagulants(DOAC), 12-Lipid lowering agents, 13-Insulin, 14- Oral antidiabetic agents, 99-other cardiovascular medication'\n",
    "carmed_field_index = carmed_field_index.split(',')\n",
    "carmed_field_index = map(lambda x: x.split('-'), carmed_field_index)\n",
    "carmed_field_index = map(lambda x: tuple(x), carmed_field_index)\n",
    "carmed_field_index = list(carmed_field_index)\n",
    "\n",
    "display(f'carmed_field_index length: {len(carmed_field_index)}  carmed_to_atc: {len(carmed_to_atc)}')\n",
    "\n",
    "# Make sure the lists are of the same length so we can line them up and see what's missing\n",
    "carmed_to_atc = [''] + carmed_to_atc\n",
    "display(carmed_to_atc)\n",
    "display(carmed_field_index)\n",
    "\n",
    "combined = list(zip(carmed_to_atc, carmed_field_index))\n",
    "combined_df = pd.DataFrame(combined, columns=['ATC', 'choice'])\n",
    "\n",
    "combined_df.ATC = combined_df.ATC.str.strip()\n",
    "combined_df['number'] = combined_df['choice'].map(lambda x: int(x[0].strip()))\n",
    "display(combined_df)\n",
    "\n",
    "for row in combined_df.itertuples():\n",
    "    print(row)\n",
    "    capacity_uri =  URIRef(f'http://example.org/capacity/carmed/{row.number}')\n",
    "    patient_graph.add((URIRef(UATC + row.ATC), OWL.sameAs, capacity_uri))\n",
    "    patient_graph.add((capacity_uri, SKOS.prefLabel, Literal(row.choice[1])))\n"
   ]
  },
  {
   "cell_type": "markdown",
   "metadata": {},
   "source": [
    "Now we have the triples to connect medication to CAPACITY fields. Let's check if our patient Bob uses any cardiovascular medication."
   ]
  },
  {
   "cell_type": "code",
   "execution_count": 8,
   "metadata": {},
   "outputs": [
    {
     "name": "stdout",
     "output_type": "stream",
     "text": [
      "Answer to carmed field: http://example.org/capacity/carmed/3 Antiarrhytmic drugs\n",
      "Answer to carmed field: http://example.org/capacity/carmed/1 Betablocker\n"
     ]
    }
   ],
   "source": [
    "query = \\\n",
    "'''\n",
    "select ?capacity ?label\n",
    "where {    \n",
    "   <http://example.org/patient/bob> ZIB:hasZibRecord ?zibRecord .\n",
    "    ?zibRecord ZIB:medicationCode ?medication .\n",
    "    ?medication RDFS:subClassOf* ?superclass .\n",
    "    ?superclass OWL:sameAs ?capacity .\n",
    "    ?capacity SKOS:prefLabel ?label \n",
    "}\n",
    "'''\n",
    "\n",
    "result = patient_graph.query(query)\n",
    "\n",
    "for r in result:\n",
    "    print(f'Answer to carmed field: {r[0]} {r[1]}')\n",
    "    \n"
   ]
  },
  {
   "cell_type": "code",
   "execution_count": null,
   "metadata": {},
   "outputs": [],
   "source": []
  }
 ],
 "metadata": {
  "kernelspec": {
   "display_name": "Python 3",
   "language": "python",
   "name": "python3"
  },
  "language_info": {
   "codemirror_mode": {
    "name": "ipython",
    "version": 3
   },
   "file_extension": ".py",
   "mimetype": "text/x-python",
   "name": "python",
   "nbconvert_exporter": "python",
   "pygments_lexer": "ipython3",
   "version": "3.8.4"
  }
 },
 "nbformat": 4,
 "nbformat_minor": 4
}
