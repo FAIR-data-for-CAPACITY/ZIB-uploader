{
 "cells": [
  {
   "cell_type": "markdown",
   "metadata": {},
   "source": [
    "# RDF-centered conversion\n",
    "This notebook will convert ZIB triples to capacity fields."
   ]
  },
  {
   "cell_type": "code",
   "execution_count": 1,
   "metadata": {},
   "outputs": [],
   "source": [
    "from rdflib import Graph, URIRef, Namespace, Literal\n",
    "from rdflib.namespace import RDFS,SKOS, RDF, OWL\n",
    "from pathlib import Path"
   ]
  },
  {
   "cell_type": "markdown",
   "metadata": {},
   "source": [
    "## Ontologies\n",
    "\n",
    "## ZIB ontology\n",
    "A small sample ontology to be able to describe ZIB concepts.\n",
    "\n",
    "This ontology contains the following ZIB classes.\n",
    "\n",
    "| Name          | Description  |\n",
    "|---------------|--------------|\n",
    "| [MedicationUse](https://zibs.nl/wiki/MedicationUse2-v1.1.1(2020EN)) |    |\n",
    "| [PharmaceuticalProduct](https://zibs.nl/wiki/PharmaceuticalProduct-v2.1.2(2020EN)) | Partial information model used in MedicationUse |\n",
    "| ZIBConcept | The parent class of all concrete ZIB classes|\n",
    "\n",
    "## CAPACITY ontology\n",
    "A similar simple ontology. For now we focus on the carmed field. Every multiple choice answer has a class.\n",
    "\n",
    "| Name | Description|\n",
    "|------|------------|\n",
    "| CapacityField| Parent class of all concrete capacity field classes|\n",
    "|carmed___1|    |\n",
    "|carmed___3|    |\n",
    "|carmed___4|    |\n",
    "|carmed___5|    |\n",
    "|carmed___6|    |\n",
    "|carmed___7|    |\n",
    "|carmed___8|    |\n",
    "|carmed___15|    |\n",
    "|carmed___16|    |\n",
    "|carmed___17|    |\n",
    "|carmed___9|    |\n",
    "|carmed___10|    |\n",
    "|carmed___11|    |\n",
    "|carmed___12|    |\n",
    "|carmed___13|    |\n",
    "|carmed___14|    |\n",
    "|carmed___99|    |\n",
    "\n",
    "In order to reason about these concepts we need to load the ontologies into our graph."
   ]
  },
  {
   "cell_type": "code",
   "execution_count": 2,
   "metadata": {},
   "outputs": [
    {
     "data": {
      "text/plain": [
       "<Graph identifier=Nc5384001955747f99a08fc04c8e30b38 (<class 'rdflib.graph.Graph'>)>"
      ]
     },
     "execution_count": 2,
     "metadata": {},
     "output_type": "execute_result"
    }
   ],
   "source": [
    "patient_graph = Graph()\n",
    "\n",
    "\n",
    "# Load ZIB ontology into graph\n",
    "ZIB = Namespace('http://example.org/ZIB#')\n",
    "patient_graph.bind('ZIB', ZIB)\n",
    "zib_ontology = '../../ontologies/zib.owl'\n",
    "patient_graph.parse(zib_ontology)\n",
    "\n",
    "# Load CAPACITY ontology\n",
    "CAPACITY = Namespace('http://example.org/capacity#')\n",
    "patient_graph.bind('CAPACITY', CAPACITY)\n",
    "capacity_ontology = '../../ontologies/capacity.owl'\n",
    "patient_graph.parse(capacity_ontology)\n"
   ]
  },
  {
   "cell_type": "markdown",
   "metadata": {},
   "source": [
    "# Sample records\n",
    "Using the ZIB ontology some sample records are created for patient Bob which uses a medication called *quinidine* which has *C01BA01* within the ATC codesystem, and *atenolol* with code *C07AB03*.\n",
    "We need to create two *MedicationUse* records."
   ]
  },
  {
   "cell_type": "code",
   "execution_count": 3,
   "metadata": {},
   "outputs": [],
   "source": [
    "# Some namespaces we use\n",
    "ATC = Namespace('http://purl.bioontology.org/ontology/ATC/')\n",
    "UATC = Namespace('http://purl.bioontology.org/ontology/UATC/')\n",
    "\n",
    "\n",
    "patient = Namespace('http://example.org/patient/')\n",
    "zib_record = Namespace('http://example.org/zib_record/')\n",
    "\n",
    "# Sample medicationUse zib\n",
    "patient_graph.bind('ZIB', ZIB)\n",
    "patient_graph.bind('ATC', ATC)\n",
    "patient_graph.bind('UATC', UATC)\n",
    "patient_graph.bind('RDFS', RDFS)\n",
    "patient_graph.bind('SKOS', SKOS)\n",
    "patient_graph.bind('OWL', OWL)\n",
    "\n",
    "# Quinidine record\n",
    "record_ref = zib_record.bobsmedication\n",
    "patient_graph.add((patient.bob, ZIB.hasZibRecord, record_ref))\n",
    "patient_graph.add((record_ref, RDF.type, ZIB.MedicationUse))\n",
    "patient_graph.add((record_ref, ZIB.medicationCode, UATC.C01BA01))\n",
    "\n",
    "# Atenolol record\n",
    "record_ref = zib_record.bobsOtherMedication\n",
    "patient_graph.add((patient.bob, ZIB.hasZibRecord, record_ref))\n",
    "patient_graph.add((record_ref, RDF.type, ZIB.MedicationUse))\n",
    "patient_graph.add((record_ref, ZIB.medicationCode, UATC.C07AB03))\n",
    "\n",
    "\n",
    "# Susans medication, she takes B01AC06, acetylsalicylic acid \n",
    "record_ref = zib_record.susansmedication\n",
    "patient_graph.add((patient.susan, ZIB.hasZibRecord, record_ref))\n",
    "patient_graph.add((record_ref, RDF.type, ZIB.MedicationUse))\n",
    "patient_graph.add((record_ref, ZIB.medicationCode, UATC.B01AC06))\n"
   ]
  },
  {
   "cell_type": "markdown",
   "metadata": {},
   "source": [
    "# Adding ATC ontology\n",
    "The ZIB records do not provide sufficient information to deduce the required information for CAPACITY on their own. In order to infer higher-level information on medication we need to add the ATC ontology."
   ]
  },
  {
   "cell_type": "code",
   "execution_count": 4,
   "metadata": {},
   "outputs": [
    {
     "data": {
      "text/plain": [
       "<Graph identifier=Nc5384001955747f99a08fc04c8e30b38 (<class 'rdflib.graph.Graph'>)>"
      ]
     },
     "execution_count": 4,
     "metadata": {},
     "output_type": "execute_result"
    }
   ],
   "source": [
    "from zib_uploader.tools import get\n",
    "\n",
    "atc_path = 'atc.ttl'\n",
    "atc_url = 'http://data.bioontology.org/ontologies/ATC/submissions/12/download?apikey=8b5b7825-538d-40e0-9e9e-5ab9274a9aeb'\n",
    "\n",
    "atc_file = get(atc_url)\n",
    "\n",
    "patient_graph.parse(str(atc_file), format='turtle')"
   ]
  },
  {
   "cell_type": "markdown",
   "metadata": {},
   "source": [
    "Now we need to check whether we can use the ATC ontology to infer additional information about Mr. Bobs medication use.\n",
    "\n",
    "A *DeductiveClosure* is an expansion of the knowledge base with all knowledge that can logically be derived from the original knowledge."
   ]
  },
  {
   "cell_type": "code",
   "execution_count": 5,
   "metadata": {},
   "outputs": [],
   "source": [
    "# import owlrl\n",
    "\n",
    "# owlrl.DeductiveClosure(owlrl.CombinedClosure.RDFS_OWLRL_Semantics).expand(patient_graph)\n",
    "\n",
    "# query = \\\n",
    "# '''\n",
    "# select ?medication ?superclass\n",
    "# where {    \n",
    "#    <http://example.org/patient/bob> ZIB:hasZibRecord ?zibRecord .\n",
    "#     ?zibRecord ZIB:medicationCode ?medication .\n",
    "#     ?medication RDFS:subClassOf ?superclass\n",
    "# }\n",
    "# '''\n",
    "\n",
    "# result = patient_graph.query(query)\n",
    "\n",
    "# for r in result:\n",
    "#     print(f'Medication {r[0]} is subclass of {r[1]}')"
   ]
  },
  {
   "cell_type": "markdown",
   "metadata": {},
   "source": [
    "It actually turns out that transitive relations can also be deduced without a reasoning engine by adding a '\\*' to the transitive property.\n",
    "\n",
    "If this is the most complicated reasoning we need we do not need a reasoning engine."
   ]
  },
  {
   "cell_type": "code",
   "execution_count": 6,
   "metadata": {},
   "outputs": [
    {
     "name": "stdout",
     "output_type": "stream",
     "text": [
      "Medication http://purl.bioontology.org/ontology/UATC/C01BA01 is subclass of http://purl.bioontology.org/ontology/UATC/C01BA01\n",
      "Medication http://purl.bioontology.org/ontology/UATC/C01BA01 is subclass of http://purl.bioontology.org/ontology/UATC/C01BA\n",
      "Medication http://purl.bioontology.org/ontology/UATC/C01BA01 is subclass of http://purl.bioontology.org/ontology/UATC/C01B\n",
      "Medication http://purl.bioontology.org/ontology/UATC/C01BA01 is subclass of http://purl.bioontology.org/ontology/UATC/C01\n",
      "Medication http://purl.bioontology.org/ontology/UATC/C01BA01 is subclass of http://purl.bioontology.org/ontology/UATC/C\n",
      "Medication http://purl.bioontology.org/ontology/UATC/C01BA01 is subclass of http://www.w3.org/2002/07/owl#Thing\n",
      "Medication http://purl.bioontology.org/ontology/UATC/C07AB03 is subclass of http://purl.bioontology.org/ontology/UATC/C07AB03\n",
      "Medication http://purl.bioontology.org/ontology/UATC/C07AB03 is subclass of http://purl.bioontology.org/ontology/UATC/C07AB\n",
      "Medication http://purl.bioontology.org/ontology/UATC/C07AB03 is subclass of http://purl.bioontology.org/ontology/UATC/C07A\n",
      "Medication http://purl.bioontology.org/ontology/UATC/C07AB03 is subclass of http://purl.bioontology.org/ontology/UATC/C07\n",
      "Medication http://purl.bioontology.org/ontology/UATC/C07AB03 is subclass of http://purl.bioontology.org/ontology/UATC/C\n",
      "Medication http://purl.bioontology.org/ontology/UATC/C07AB03 is subclass of http://www.w3.org/2002/07/owl#Thing\n"
     ]
    }
   ],
   "source": [
    "query = \\\n",
    "'''\n",
    "select ?medication ?superclass\n",
    "where {    \n",
    "   <http://example.org/patient/bob> ZIB:hasZibRecord ?zibRecord .\n",
    "    ?zibRecord ZIB:medicationCode ?medication .\n",
    "    ?medication RDFS:subClassOf* ?superclass\n",
    "}\n",
    "'''\n",
    "\n",
    "result = patient_graph.query(query)\n",
    "\n",
    "for r in result:\n",
    "    print(f'Medication {r[0]} is subclass of {r[1]}')"
   ]
  },
  {
   "cell_type": "markdown",
   "metadata": {},
   "source": [
    "This information can be used to derive the values of a couple of *carmed* fields in the CAPACITY codebook.\n",
    "The mapping excel sheet specifies how the multiple choice values map to ATC codes."
   ]
  },
  {
   "cell_type": "code",
   "execution_count": 7,
   "metadata": {},
   "outputs": [
    {
     "name": "stderr",
     "output_type": "stream",
     "text": [
      "http://example.org/capacity/cvrisk_ckd_sev/or eGFR 45 does not look like a valid URI, trying to serialize this will break.\n",
      "http://example.org/capacity/cvrisk_ckd_sev/or eGFR 30 does not look like a valid URI, trying to serialize this will break.\n",
      "http://example.org/capacity/cvrisk_ckd_sev/or eGFR 45 does not look like a valid URI, trying to serialize this will break.\n",
      "http://example.org/capacity/cvrisk_copd_sev/FEV1 50 does not look like a valid URI, trying to serialize this will break.\n",
      "http://example.org/capacity/cvrisk_copd_sev/FEV1 30 does not look like a valid URI, trying to serialize this will break.\n",
      "http://example.org/capacity/carhist_bmi/Text (number) or cal does not look like a valid URI, trying to serialize this will break.\n",
      "http://example.org/capacity/cvrisk_bmi_inchpound/Text (number) or cal does not look like a valid URI, trying to serialize this will break.\n",
      "http://example.org/capacity/capacity_cardiac_baseline_ass essment_required_complete/0 does not look like a valid URI, trying to serialize this will break.\n",
      "http://example.org/capacity/capacity_cardiac_baseline_ass essment_required_complete/1 does not look like a valid URI, trying to serialize this will break.\n",
      "http://example.org/capacity/capacity_cardiac_baseline_ass essment_required_complete/2 does not look like a valid URI, trying to serialize this will break.\n"
     ]
    }
   ],
   "source": [
    "import pandas as pd\n",
    "mapping_url = 'https://raw.githubusercontent.com/FAIR-data-for-CAPACITY/CAPACITY-mapping/master/codes-to-capacity-mapping.csv'\n",
    "mapping = get(mapping_url)\n",
    "mapping_df = pd.read_csv(mapping)\n",
    "mapping_df = mapping_df.apply(lambda x: x.str.strip())\n",
    "URI_template = 'http://example.org/capacity/{field_name}/{choice_code}'\n",
    "choice_template = '{field_name}___{choice_code}'\n",
    "\n",
    "# For now focus on multiple choice\n",
    "mapping_df = mapping_df[~mapping_df['capacity_field_choice_code'].isna()]\n",
    "\n",
    "\n",
    "for row in mapping_df.itertuples():\n",
    "    field_name = row.capacity_field_name\n",
    "    choice_code = row.capacity_field_choice_code\n",
    "    \n",
    "    capacity_uri = URI_template.format(field_name=field_name, choice_code=choice_code)\n",
    "    choice_name = choice_template.format(field_name=field_name, choice_code=choice_code)\n",
    "    \n",
    "    capacity_uri = URIRef(capacity_uri)\n",
    "    atc_uri = URIRef(UATC + str(row.atc_code))\n",
    "    \n",
    "    patient_graph.add((atc_uri, OWL.sameAs, capacity_uri))\n",
    "    patient_graph.add((capacity_uri, SKOS.prefLabel, Literal(row.capacity_field_description)))\n",
    "    patient_graph.add((capacity_uri, CAPACITY.fieldName, Literal(row.capacity_field_name)))\n",
    "    patient_graph.add((capacity_uri, CAPACITY.choiceName, Literal(choice_name)))\n",
    "    \n",
    "    # Let's combine all capacity classes under one superclass choice\n",
    "    patient_graph.add((capacity_uri, RDFS.subClassOf, CAPACITY.Choice))\n"
   ]
  },
  {
   "cell_type": "code",
   "execution_count": 8,
   "metadata": {},
   "outputs": [],
   "source": [
    "# import pandas as pd \n",
    "\n",
    "# def str_to_tuples(s, sep):\n",
    "#     l = s.split(sep)\n",
    "#     l = [(l[i], l[i+1]) for i in range(0, len(l), 2)]\n",
    "    \n",
    "#     return l\n",
    "    \n",
    "\n",
    "# carmed_to_atc = 'C07A|Beta blocking agents|C01B|ANTIARRHYTHMICS, CLASS I AND III|C01AA05|digoxin|C03|Diuretics|C08|CALCIUM CHANNEL BLOCKERS|C09A | ACE inhibitors, plain|C09C|ANGIOTENSIN II RECEPTOR BLOCKERS (ARBs), PLAIN|C03DA|Aldosterone antagonists|C09CA03| valsartan|C02KX|Antihypertensives for pulmonary hypertension(phosphodisesterase)|B01AC|Platelet aggregation inhibitors excl.heparin|B01AA|Vitamin K antagonists(coumarin)|B01AE|direct thrombin inhibitors (DOAC)|C10|Lipid modifying agents|A10A|Insulins and analogues|A10B|bloog glucose lowering drugs, excl. insulins(Oral antidiabetic agents'\n",
    "# carmed_to_atc = str_to_tuples(carmed_to_atc, '|')\n",
    "# carmed_to_atc = map(lambda x: x[0], carmed_to_atc)\n",
    "# carmed_to_atc = list(carmed_to_atc)\n",
    "                \n",
    "\n",
    "# carmed_field_index = '0-None, 1-Betablocker, 3-Antiarrhytmic drugs, 4-Digoxine, 5- Diuretics, 6- Calcium channel blocker, 7- ACE inhibitor, 8- Angiotensin II receptor blocker, 15- Aldosterone antagonist, 16 -Sacubitrivil/valsartan(Entresto),17-Phospodiesterase inhibitors,9 -antiplatelet agents, 10- coumarin, 11- direct oral anticoagulants(DOAC), 12-Lipid lowering agents, 13-Insulin, 14- Oral antidiabetic agents, 99-other cardiovascular medication'\n",
    "# carmed_field_index = carmed_field_index.split(',')\n",
    "# carmed_field_index = map(lambda x: x.split('-'), carmed_field_index)\n",
    "# carmed_field_index = map(lambda x: tuple(x), carmed_field_index)\n",
    "# carmed_field_index = list(carmed_field_index)\n",
    "\n",
    "# display(f'carmed_field_index length: {len(carmed_field_index)}  carmed_to_atc: {len(carmed_to_atc)}')\n",
    "\n",
    "# # Make sure the lists are of the same length so we can line them up and see what's missing\n",
    "# carmed_to_atc = [''] + carmed_to_atc\n",
    "# display(carmed_to_atc)\n",
    "# display(carmed_field_index)\n",
    "\n",
    "# combined = list(zip(carmed_to_atc, carmed_field_index))\n",
    "# combined_df = pd.DataFrame(combined, columns=['ATC', 'choice'])\n",
    "\n",
    "# combined_df.ATC = combined_df.ATC.str.strip()\n",
    "# combined_df['number'] = combined_df['choice'].map(lambda x: int(x[0].strip()))\n",
    "# display(combined_df)\n",
    "\n",
    "# capacity_root_class = URIRef('http://example.org/capacity/capacityValue')\n",
    "# capacity_fieldname_property =  URIRef('http://example.org/capacity/fieldName')\n",
    "\n",
    "# for row in combined_df.itertuples():\n",
    "#     if row.number == 0:\n",
    "#         continue\n",
    "        \n",
    "#     capacity_uri =  URIRef(f'http://example.org/capacity/carmed/{row.number}')\n",
    "#     atc_uri = URIRef(UATC + row.ATC)\n",
    "    \n",
    "#     print(f'CAPACITY uri: {capacity_uri} sameas atc uri: {atc_uri}')\n",
    "               \n",
    "#     patient_graph.add((atc_uri, OWL.sameAs, capacity_uri))\n",
    "#     patient_graph.add((capacity_uri, SKOS.prefLabel, Literal(row.choice[1])))\n",
    "#     patient_graph.add((capacity_uri, capacity_fieldname_property, Literal(f'carmed___{row.number}')))\n",
    "    \n",
    "#     # Let's combine all capacity classes under one superclass capacityValue\n",
    "#     patient_graph.add((capacity_uri, RDFS.subClassOf, capacity_root_class))\n"
   ]
  },
  {
   "cell_type": "markdown",
   "metadata": {},
   "source": [
    "Now we have the triples to connect medication to CAPACITY fields. Let's check if our patient Bob uses any cardiovascular medication."
   ]
  },
  {
   "cell_type": "markdown",
   "metadata": {},
   "source": [
    " # Querying CAPACITY data\n",
    " For our conversion it would be convenient if we had a list of all the capacity values per patient."
   ]
  },
  {
   "cell_type": "code",
   "execution_count": 13,
   "metadata": {},
   "outputs": [
    {
     "data": {
      "text/html": [
       "<div>\n",
       "<style scoped>\n",
       "    .dataframe tbody tr th:only-of-type {\n",
       "        vertical-align: middle;\n",
       "    }\n",
       "\n",
       "    .dataframe tbody tr th {\n",
       "        vertical-align: top;\n",
       "    }\n",
       "\n",
       "    .dataframe thead th {\n",
       "        text-align: right;\n",
       "    }\n",
       "</style>\n",
       "<table border=\"1\" class=\"dataframe\">\n",
       "  <thead>\n",
       "    <tr style=\"text-align: right;\">\n",
       "      <th></th>\n",
       "      <th>patient</th>\n",
       "      <th>capacity_class</th>\n",
       "      <th>capacity_field</th>\n",
       "      <th>choice_name</th>\n",
       "    </tr>\n",
       "  </thead>\n",
       "  <tbody>\n",
       "    <tr>\n",
       "      <th>0</th>\n",
       "      <td>http://example.org/patient/bob</td>\n",
       "      <td>http://example.org/capacity/carmed/1</td>\n",
       "      <td>carmed</td>\n",
       "      <td>carmed___1</td>\n",
       "    </tr>\n",
       "    <tr>\n",
       "      <th>1</th>\n",
       "      <td>http://example.org/patient/bob</td>\n",
       "      <td>http://example.org/capacity/carmed/3</td>\n",
       "      <td>carmed</td>\n",
       "      <td>carmed___3</td>\n",
       "    </tr>\n",
       "    <tr>\n",
       "      <th>2</th>\n",
       "      <td>http://example.org/patient/bob</td>\n",
       "      <td>http://example.org/capacity/carmed_bb/1</td>\n",
       "      <td>carmed_bb</td>\n",
       "      <td>carmed_bb___1</td>\n",
       "    </tr>\n",
       "    <tr>\n",
       "      <th>3</th>\n",
       "      <td>http://example.org/patient/bob</td>\n",
       "      <td>http://example.org/capacity/carmed_antiarrh/1</td>\n",
       "      <td>carmed_antiarrh</td>\n",
       "      <td>carmed_antiarrh___1</td>\n",
       "    </tr>\n",
       "    <tr>\n",
       "      <th>4</th>\n",
       "      <td>http://example.org/patient/susan</td>\n",
       "      <td>http://example.org/capacity/carmed_antiplate/1</td>\n",
       "      <td>carmed_antiplate</td>\n",
       "      <td>carmed_antiplate___1</td>\n",
       "    </tr>\n",
       "    <tr>\n",
       "      <th>5</th>\n",
       "      <td>http://example.org/patient/susan</td>\n",
       "      <td>http://example.org/capacity/carmed/9</td>\n",
       "      <td>carmed</td>\n",
       "      <td>carmed___9</td>\n",
       "    </tr>\n",
       "    <tr>\n",
       "      <th>6</th>\n",
       "      <td>http://example.org/patient/bob</td>\n",
       "      <td>http://example.org/capacity/carmed_arrhyth_cla...</td>\n",
       "      <td>carmed_arrhyth_class1</td>\n",
       "      <td>carmed_arrhyth_class1___1</td>\n",
       "    </tr>\n",
       "  </tbody>\n",
       "</table>\n",
       "</div>"
      ],
      "text/plain": [
       "                            patient  \\\n",
       "0    http://example.org/patient/bob   \n",
       "1    http://example.org/patient/bob   \n",
       "2    http://example.org/patient/bob   \n",
       "3    http://example.org/patient/bob   \n",
       "4  http://example.org/patient/susan   \n",
       "5  http://example.org/patient/susan   \n",
       "6    http://example.org/patient/bob   \n",
       "\n",
       "                                      capacity_class         capacity_field  \\\n",
       "0               http://example.org/capacity/carmed/1                 carmed   \n",
       "1               http://example.org/capacity/carmed/3                 carmed   \n",
       "2            http://example.org/capacity/carmed_bb/1              carmed_bb   \n",
       "3      http://example.org/capacity/carmed_antiarrh/1        carmed_antiarrh   \n",
       "4     http://example.org/capacity/carmed_antiplate/1       carmed_antiplate   \n",
       "5               http://example.org/capacity/carmed/9                 carmed   \n",
       "6  http://example.org/capacity/carmed_arrhyth_cla...  carmed_arrhyth_class1   \n",
       "\n",
       "                 choice_name  \n",
       "0                 carmed___1  \n",
       "1                 carmed___3  \n",
       "2              carmed_bb___1  \n",
       "3        carmed_antiarrh___1  \n",
       "4       carmed_antiplate___1  \n",
       "5                 carmed___9  \n",
       "6  carmed_arrhyth_class1___1  "
      ]
     },
     "metadata": {},
     "output_type": "display_data"
    }
   ],
   "source": [
    "query = \\\n",
    "'''\n",
    "select ?patient ?field ?field_name ?choice_name\n",
    "where {    \n",
    "    ?patient ZIB:hasZibRecord ?zibRecord .\n",
    "    ?zibProperty RDFS:subPropertyOf ZIB:zibProperty .\n",
    "    ?zibRecord ?zibProperty ?zibValue .\n",
    "    ?zibValue RDFS:subClassOf*/OWL:sameAs* ?field .\n",
    "    ?field RDFS:subClassOf CAPACITY:Choice .\n",
    "    ?field SKOS:prefLabel ?label .\n",
    "    ?field CAPACITY:fieldName ?field_name .\n",
    "    ?field CAPACITY:choiceName ?choice_name .\n",
    "}\n",
    "'''\n",
    "\n",
    "result = patient_graph.query(query)\n",
    "result_df = pd.DataFrame(result, columns=['patient', 'capacity_class', 'capacity_field', 'choice_name'])\n",
    "display(result_df)"
   ]
  },
  {
   "cell_type": "markdown",
   "metadata": {},
   "source": [
    "# Converting answers to CAPACITY codebook format\n",
    "Converting the data to a list of dicts, every dict representing one patient.\n",
    "It is possible to upload a pandas DataFrame to REDCap but as a lot of fields are optional the list of dicts will probably be more compact."
   ]
  },
  {
   "cell_type": "code",
   "execution_count": 14,
   "metadata": {},
   "outputs": [
    {
     "data": {
      "text/plain": [
       "[{'carmed___1': True,\n",
       "  'carmed___3': True,\n",
       "  'carmed_bb___1': True,\n",
       "  'carmed_antiarrh___1': True,\n",
       "  'carmed_arrhyth_class1___1': True,\n",
       "  'subjid': 'http://example.org/patient/bob'},\n",
       " {'carmed_antiplate___1': True,\n",
       "  'carmed___9': True,\n",
       "  'subjid': 'http://example.org/patient/susan'}]"
      ]
     },
     "metadata": {},
     "output_type": "display_data"
    }
   ],
   "source": [
    "def collapse_patient(group: pd.DataFrame) -> pd.DataFrame:\n",
    "    fields = list(group.choice_name.apply(lambda x: x.value).values)\n",
    "    \n",
    "    # Assuming all fields are multiple choice. If a field exists for a patient, its value is True\n",
    "    values = [True] * len(fields)\n",
    "    \n",
    "    row = dict(zip(fields, values))\n",
    "    row['subjid'] = group.patient.iloc[0].toPython()\n",
    "    \n",
    "    return row\n",
    "    \n",
    "\n",
    "# Get one row per patient\n",
    "redcap_records = result_df.groupby(by='patient').apply(collapse_patient).tolist()\n",
    "display(redcap_records)"
   ]
  },
  {
   "cell_type": "code",
   "execution_count": 15,
   "metadata": {},
   "outputs": [
    {
     "data": {
      "text/plain": [
       "{'count': 2}"
      ]
     },
     "execution_count": 15,
     "metadata": {},
     "output_type": "execute_result"
    }
   ],
   "source": [
    "from redcap import Project\n",
    "import os\n",
    "\n",
    "api_url = 'https://redcap.heart-institute.nl/api/'\n",
    "api_key = os.environ['REDCAP_TOKEN']\n",
    "\n",
    "project = Project(api_url, api_key)\n",
    "\n",
    "project.import_records(redcap_records)"
   ]
  },
  {
   "cell_type": "markdown",
   "metadata": {},
   "source": [
    "## TODO:\n",
    "- Make the system work for open answers, not just multiple choice."
   ]
  },
  {
   "cell_type": "code",
   "execution_count": null,
   "metadata": {},
   "outputs": [],
   "source": []
  }
 ],
 "metadata": {
  "kernelspec": {
   "display_name": "Python 3",
   "language": "python",
   "name": "python3"
  },
  "language_info": {
   "codemirror_mode": {
    "name": "ipython",
    "version": 3
   },
   "file_extension": ".py",
   "mimetype": "text/x-python",
   "name": "python",
   "nbconvert_exporter": "python",
   "pygments_lexer": "ipython3",
   "version": "3.8.4"
  }
 },
 "nbformat": 4,
 "nbformat_minor": 4
}
