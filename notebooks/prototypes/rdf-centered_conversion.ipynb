{
 "cells": [
  {
   "cell_type": "markdown",
   "metadata": {},
   "source": [
    "# RDF-centered conversion\n",
    "This notebook will convert ZIB triples to capacity fields."
   ]
  },
  {
   "cell_type": "code",
   "execution_count": 1,
   "metadata": {},
   "outputs": [],
   "source": [
    "from rdflib import Graph, URIRef, Namespace\n",
    "from rdflib.namespace import RDF\n",
    "from pathlib import Path"
   ]
  },
  {
   "cell_type": "markdown",
   "metadata": {},
   "source": [
    "## ZIB ontology\n",
    "A small sample ontology to be able to describe ZIB concepts.\n",
    "\n",
    "This ontology contains the following ZIB classes.\n",
    "\n",
    "| Name          | Description  |\n",
    "|---------------|--------------|\n",
    "| [MedicationUse](https://zibs.nl/wiki/MedicationUse2-v1.1.1(2020EN)) |    |\n",
    "| [PharmaceuticalProduct](https://zibs.nl/wiki/PharmaceuticalProduct-v2.1.2(2020EN)) | Partial information model used in MedicationUse |\n",
    "\n"
   ]
  },
  {
   "cell_type": "code",
   "execution_count": 2,
   "metadata": {},
   "outputs": [
    {
     "name": "stdout",
     "output_type": "stream",
     "text": [
      "@prefix : <http://example.org/ZIB#> .\n",
      "@prefix owl: <http://www.w3.org/2002/07/owl#> .\n",
      "@prefix rdfs: <http://www.w3.org/2000/01/rdf-schema#> .\n",
      "\n",
      "<http://example.org/ZIB> a owl:Ontology .\n",
      "\n",
      ":MedicationUse a owl:Class ;\n",
      "    rdfs:subClassOf :ZibConcept ;\n",
      "    owl:disjointWith :PharmaceuticalProduct .\n",
      "\n",
      ":hasZibRecord a owl:FunctionalProperty,\n",
      "        owl:InverseFunctionalProperty,\n",
      "        owl:ObjectProperty ;\n",
      "    rdfs:subPropertyOf :zibProperty .\n",
      "\n",
      ":medicationCode a owl:FunctionalProperty,\n",
      "        owl:InverseFunctionalProperty,\n",
      "        owl:ObjectProperty ;\n",
      "    rdfs:subPropertyOf :zibProperty .\n",
      "\n",
      ":PharmaceuticalProduct a owl:Class ;\n",
      "    rdfs:subClassOf :ZibConcept .\n",
      "\n",
      ":ZibConcept a owl:Class .\n",
      "\n",
      ":zibProperty a owl:ObjectProperty ;\n",
      "    rdfs:subPropertyOf owl:topObjectProperty .\n",
      "\n",
      "\n"
     ]
    }
   ],
   "source": [
    "ZIB = Namespace('http://example.org/ZIB')\n",
    "zib_ontology = '../../ZIB/zib.owl'\n",
    "zib_ontology = Graph(identifier=ZIB).parse(zib_ontology)\n",
    "\n",
    "print(zib_ontology.serialize(format='turtle').decode())"
   ]
  },
  {
   "cell_type": "markdown",
   "metadata": {},
   "source": [
    "# Sample records\n",
    "Using the ZIB ontology some sample records are created for patient Bob which uses a medication called *quinidine* which has *C01BA01* within the ATC codesystem."
   ]
  },
  {
   "cell_type": "code",
   "execution_count": 4,
   "metadata": {},
   "outputs": [
    {
     "name": "stdout",
     "output_type": "stream",
     "text": [
      "@prefix ATC: <http://purl.bioontology.org/ontology/ATC> .\n",
      "@prefix ZIB: <http://example.org/ZIB> .\n",
      "\n",
      "<http://example.org/patient/bob> ZIB:hasZibRecord <http://example.org/zib_record/bobsmedication> .\n",
      "\n",
      "<http://example.org/zib_record/bobsmedication> a ZIB:MedicationUse ;\n",
      "    ZIB:medicationCode ATC:C01BA01 .\n",
      "\n",
      "\n"
     ]
    }
   ],
   "source": [
    "# Namespaces\n",
    "ZIB = Namespace('http://example.org/ZIB')\n",
    "ATC = Namespace('http://purl.bioontology.org/ontology/ATC')\n",
    "\n",
    "patient = Namespace('http://example.org/patient/')\n",
    "zib_record = Namespace('http://example.org/zib_record/')\n",
    "\n",
    "# Sample medicationUse zib\n",
    "patient_graph = Graph()\n",
    "patient_graph.bind('ZIB', ZIB)\n",
    "patient_graph.bind('ATC', ATC)\n",
    "\n",
    "\n",
    "patient_graph.add((patient.bob, ZIB.hasZibRecord, zib_record.bobsmedication))\n",
    "patient_graph.add((zib_record.bobsmedication, RDF.type, ZIB.MedicationUse))\n",
    "patient_graph.add((zib_record.bobsmedication, ZIB.medicationCode, ATC.C01BA01))\n",
    "\n",
    "print(patient_graph.serialize(format='turtle').decode())"
   ]
  },
  {
   "cell_type": "code",
   "execution_count": null,
   "metadata": {},
   "outputs": [],
   "source": []
  }
 ],
 "metadata": {
  "kernelspec": {
   "display_name": "Python 3",
   "language": "python",
   "name": "python3"
  },
  "language_info": {
   "codemirror_mode": {
    "name": "ipython",
    "version": 3
   },
   "file_extension": ".py",
   "mimetype": "text/x-python",
   "name": "python",
   "nbconvert_exporter": "python",
   "pygments_lexer": "ipython3",
   "version": "3.8.4"
  }
 },
 "nbformat": 4,
 "nbformat_minor": 4
}
