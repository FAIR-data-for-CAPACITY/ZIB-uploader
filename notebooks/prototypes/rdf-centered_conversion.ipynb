{
 "cells": [
  {
   "cell_type": "markdown",
   "metadata": {},
   "source": [
    "# RDF-centered conversion\n",
    "This notebook will convert ZIB triples to capacity fields."
   ]
  },
  {
   "cell_type": "code",
   "execution_count": 1,
   "metadata": {},
   "outputs": [],
   "source": [
    "from rdflib import Graph, URIRef, Namespace\n",
    "from rdflib.namespace import RDF\n",
    "from pathlib import Path"
   ]
  },
  {
   "cell_type": "markdown",
   "metadata": {},
   "source": [
    "## ZIB ontology\n",
    "A small sample ontology to be able to describe ZIB concepts"
   ]
  },
  {
   "cell_type": "code",
   "execution_count": 5,
   "metadata": {},
   "outputs": [],
   "source": [
    "zib_ontology = '../../ZIB/zib.owl'\n",
    "zib = Namespace('http://example.org/ZIB')\n",
    "zib_ontology = Graph(identifier=zib_namespace).parse(zib_ontology)\n"
   ]
  },
  {
   "cell_type": "code",
   "execution_count": 12,
   "metadata": {},
   "outputs": [
    {
     "name": "stdout",
     "output_type": "stream",
     "text": [
      "None\n"
     ]
    }
   ],
   "source": [
    "# Sample medicationUse zib\n",
    "patient_graph = Graph()\n",
    "patient_graph.bind('zib', zib_ontology.identifier)\n",
    "patient_graph.bind('ATC', 'http://purl.bioontology.org/ontology/ATC')\n",
    "\n",
    "patient = Namespace('http://example.org/patient/')\n",
    "zib_record = Namespace('http://example.org/zib_record/')\n",
    "\n",
    "patient_graph.add((patient.bob, URIRef('zib#hasZibRecord'), zib_record.bobsmedication))\n",
    "patient_graph.add((zib_record.bobsmedication, RDF.type, zib.MedicationUse))\n",
    "patient_graph.add((zib_record.bobsmedication, URIRef('zib#medicationCode'), URIRef('ATC#C01BA01')))\n",
    "\n",
    "print(patient_graph.serialize('zibpatient.ttl',format='turtle'))\n"
   ]
  },
  {
   "cell_type": "code",
   "execution_count": null,
   "metadata": {},
   "outputs": [],
   "source": []
  }
 ],
 "metadata": {
  "kernelspec": {
   "display_name": "Python 3",
   "language": "python",
   "name": "python3"
  },
  "language_info": {
   "codemirror_mode": {
    "name": "ipython",
    "version": 3
   },
   "file_extension": ".py",
   "mimetype": "text/x-python",
   "name": "python",
   "nbconvert_exporter": "python",
   "pygments_lexer": "ipython3",
   "version": "3.8.4"
  }
 },
 "nbformat": 4,
 "nbformat_minor": 4
}
